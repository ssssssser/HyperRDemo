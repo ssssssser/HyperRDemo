{
 "cells": [
  {
   "cell_type": "code",
   "execution_count": 5,
   "metadata": {},
   "outputs": [],
   "source": [
    "import yaml\n",
    "\n",
    "with open('models_config.yaml', 'r') as f:\n",
    "    config = yaml.safe_load(f)\n",
    "\n",
    "with open('app/models.py', 'w') as f:\n",
    "    f.write(\"from . import db \\n\")\n",
    "    for table_name, table_config in config.items():\n",
    "        f.write(f\"class {table_config['class_name']}(db.Model):\\n\")\n",
    "        f.write(f\"    __tablename__ = '{table_name}'\\n\\n\")\n",
    "        for column_name, column_type in table_config['columns'].items():\n",
    "            f.write(f\"    {column_name} = db.Column({column_type})\\n\")\n",
    "        f.write(\"\\n\")\n",
    "\n",
    "        for relationship_name, relationship_config in table_config.get('relationships', {}).items():\n",
    "            f.write(f\"    {relationship_name} = db.relationship('{relationship_config['model']}', {relationship_config.get('options', '')})\\n\\n\")\n"
   ]
  }
 ],
 "metadata": {
  "kernelspec": {
   "display_name": "base",
   "language": "python",
   "name": "python3"
  },
  "language_info": {
   "codemirror_mode": {
    "name": "ipython",
    "version": 3
   },
   "file_extension": ".py",
   "mimetype": "text/x-python",
   "name": "python",
   "nbconvert_exporter": "python",
   "pygments_lexer": "ipython3",
   "version": "3.7.4"
  },
  "orig_nbformat": 4,
  "vscode": {
   "interpreter": {
    "hash": "40d3a090f54c6569ab1632332b64b2c03c39dcf918b08424e98f38b5ae0af88f"
   }
  }
 },
 "nbformat": 4,
 "nbformat_minor": 2
}
